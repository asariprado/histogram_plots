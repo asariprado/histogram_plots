{
 "cells": [
  {
   "cell_type": "code",
   "execution_count": 1,
   "metadata": {},
   "outputs": [],
   "source": [
    "import os\n",
    "import sys\n",
    "import numpy as np\n",
    "from astropy.io import fits\n",
    "import glob\n",
    "import matplotlib.pyplot as plt"
   ]
  },
  {
   "cell_type": "markdown",
   "metadata": {},
   "source": [
    "Here I just define the directories that point to the sspmodel directory and the directory of the LEGA-C spectra."
   ]
  },
  {
   "cell_type": "code",
   "execution_count": 2,
   "metadata": {},
   "outputs": [],
   "source": [
    "sspmodel_dir = '/Users/aprado/Desktop/sspmodel_py/' #'/home/gmosby/sspmodel_py_clean/sspmodel_py/'\n",
    "legac_dir =  '/Users/aprado/Desktop/astropy/spectraDR/' #'/home/gmosby/LEGAC/spectraDR/'"
   ]
  },
  {
   "cell_type": "markdown",
   "metadata": {},
   "source": [
    "We want to take a look at how the spectra need to be formatted for SSPMPDEL first, so we look at one of the example spectra FITS files."
   ]
  },
  {
   "cell_type": "code",
   "execution_count": 3,
   "metadata": {},
   "outputs": [
    {
     "name": "stdout",
     "output_type": "stream",
     "text": [
      "Found 4 FITS files\n",
      "['/Users/aprado/Desktop/sspmodel_py/example/legac_M13_230105_v2.0_off_axis.fits', '/Users/aprado/Desktop/sspmodel_py/example/tau_2gyr_newdfk_sn_005_ps_000_r000_off_axis.fits', '/Users/aprado/Desktop/sspmodel_py/example/tau_10gyr_14Jun02_per_000_sn_005_ps_000_r000_off_axis.fits', '/Users/aprado/Desktop/sspmodel_py/example/tau_2gyr_newdfk_sn_020_ps_000_r000_off_axis.fits']\n"
     ]
    }
   ],
   "source": [
    "#Find input spectrum\n",
    "specfiles = glob.glob(sspmodel_dir+'example/*_off_axis.fits')\n",
    "print(\"Found %d FITS files\"%(len(specfiles)))\n",
    "print(specfiles)"
   ]
  },
  {
   "cell_type": "markdown",
   "metadata": {},
   "source": [
    "We take a look at the HDU, grab its header and see what we need to have in a FITS file for SSPMODEL."
   ]
  },
  {
   "cell_type": "code",
   "execution_count": 4,
   "metadata": {},
   "outputs": [],
   "source": [
    "spechdu = fits.open(specfiles[0])"
   ]
  },
  {
   "cell_type": "code",
   "execution_count": 5,
   "metadata": {},
   "outputs": [
    {
     "name": "stdout",
     "output_type": "stream",
     "text": [
      "Filename: /Users/aprado/Desktop/sspmodel_py/example/legac_M13_230105_v2.0_off_axis.fits\n",
      "No.    Name      Ver    Type      Cards   Dimensions   Format\n",
      "  0  PRIMARY       1 PrimaryHDU       8   (4123, 1)   float32   \n",
      "None\n"
     ]
    }
   ],
   "source": [
    "print(spechdu.info())"
   ]
  },
  {
   "cell_type": "code",
   "execution_count": 6,
   "metadata": {},
   "outputs": [],
   "source": [
    "spechdr = spechdu[0].header"
   ]
  },
  {
   "cell_type": "code",
   "execution_count": 7,
   "metadata": {},
   "outputs": [
    {
     "data": {
      "text/plain": [
       "SIMPLE  =                    T / conforms to FITS standard                      \n",
       "BITPIX  =                  -32 / array data type                                \n",
       "NAXIS   =                    2 / number of array dimensions                     \n",
       "NAXIS1  =                 4123                                                  \n",
       "NAXIS2  =                    1                                                  \n",
       "EXTEND  =                    T                                                  \n",
       "CDELT1  =                  0.6                                                  \n",
       "CRVAL1  =               6541.3                                                  "
      ]
     },
     "execution_count": 7,
     "metadata": {},
     "output_type": "execute_result"
    }
   ],
   "source": [
    "spechdr"
   ]
  },
  {
   "cell_type": "markdown",
   "metadata": {},
   "source": [
    "The key parts are that the FITS file has NAXIS = 2, we can do this by just making sure the data we save has 2 dimensions, and that we have CRVAL1 and CDELT1 keywords. These keywords allow the code to reconstruct the wavelengh for each flux point without having to carry around the wavelength array values. The keywords in this file are in meters, but SSPMODEL can handle these values in Angstroms as well. In the example conversion below. I use Angstroms."
   ]
  },
  {
   "cell_type": "markdown",
   "metadata": {},
   "source": [
    "## Converting LEGA-C spectra"
   ]
  },
  {
   "cell_type": "markdown",
   "metadata": {},
   "source": [
    "Here I grab the LEGA-C spectra FITS Binary Tables and take a look inside the header. We have the data we need to form some of the keywords we need."
   ]
  },
  {
   "cell_type": "code",
   "execution_count": 8,
   "metadata": {},
   "outputs": [
    {
     "name": "stdout",
     "output_type": "stream",
     "text": [
      "Found 1992 files\n"
     ]
    }
   ],
   "source": [
    "legafiles = glob.glob(legac_dir+'*.fits')\n",
    "print(\"Found %d files\"%(len(legafiles)))"
   ]
  },
  {
   "cell_type": "code",
   "execution_count": 9,
   "metadata": {},
   "outputs": [],
   "source": [
    "legaspechdu = fits.open(legafiles[0])\n",
    "fav = '/Users/aprado/Desktop/astropy/spectraDR/legac_M13_230105_v2.0.fits'\n",
    "fav = fits.open(fav)"
   ]
  },
  {
   "cell_type": "code",
   "execution_count": 10,
   "metadata": {},
   "outputs": [
    {
     "name": "stdout",
     "output_type": "stream",
     "text": [
      "Filename: /Users/aprado/Desktop/astropy/spectraDR/legac_M2_210716_v2.0.fits\n",
      "No.    Name      Ver    Type      Cards   Dimensions   Format\n",
      "  0  PRIMARY       1 PrimaryHDU     117   ()      \n",
      "  1  PHASE3SPECTRA    1 BinTableHDU     46   1R x 4C   [6166E, 6166E, 6166E, 6166I]   \n"
     ]
    }
   ],
   "source": [
    "legaspechdu.info()"
   ]
  },
  {
   "cell_type": "code",
   "execution_count": 11,
   "metadata": {},
   "outputs": [
    {
     "name": "stdout",
     "output_type": "stream",
     "text": [
      "Filename: /Users/aprado/Desktop/astropy/spectraDR/legac_M13_230105_v2.0.fits\n",
      "No.    Name      Ver    Type      Cards   Dimensions   Format\n",
      "  0  PRIMARY       1 PrimaryHDU     200   ()      \n",
      "  1  PHASE3SPECTRA    1 BinTableHDU     46   1R x 4C   [6166E, 6166E, 6166E, 6166I]   \n"
     ]
    }
   ],
   "source": [
    "fav.info()"
   ]
  },
  {
   "cell_type": "code",
   "execution_count": 12,
   "metadata": {},
   "outputs": [],
   "source": [
    "legaspechdr = fav[0].header#legaspechdu[0].header"
   ]
  },
  {
   "cell_type": "code",
   "execution_count": 13,
   "metadata": {},
   "outputs": [],
   "source": [
    "favhdr = fav[0].header"
   ]
  },
  {
   "cell_type": "code",
   "execution_count": 14,
   "metadata": {},
   "outputs": [
    {
     "data": {
      "text/plain": [
       "SIMPLE  =                    T /Written by IDL:  Wed Jun 13 14:45:05 2018       \n",
       "BITPIX  =                    8 /                                                \n",
       "NAXIS   =                    0 /                                                \n",
       "EXTEND  =                    T /File contains extensions                        \n",
       "DATE    = '2018-06-13'         /                                                \n",
       "ORIGIN  = 'ESO     '           /European Southern Observatory                   \n",
       "TELESCOP= 'ESO-VLT-U3'         /ESO <TEL>                                       \n",
       "INSTRUME= 'VIMOS   '           /Instrument used                                 \n",
       "DISPELEM= 'HR_red  '           /                                                \n",
       "SPECSYS = 'TOPOCENT'           /                                                \n",
       "OBJECT  = 'M13_230105'         /                                                \n",
       "EXT_OBJ =                    T /                                                \n",
       "RA      =           149.919083 /UltraVISTA catalog R.A.                         \n",
       "DEC     =             2.760555 /UltraVISTA catalog Dec.                         \n",
       "EQUINOX =                 2000 /Standard FK5                                    \n",
       "RADECSYS= 'FK5     '           /                                                \n",
       "EXPTIME =              96999.3 /Total integration time per pixel (s)            \n",
       "TEXPTIME=              96999.3 /Total integration time in spectrum (s)          \n",
       "MJD-OBS =       57454.03406600 /                                                \n",
       "MJD-END =       57461.26682536 /                                                \n",
       "PROG_ID = '194.A-2005(I)'      /                                                \n",
       "OBID1   =              1365594 /Observation block ID                            \n",
       "OBID2   =              1365597 /Observation block ID                            \n",
       "OBID3   =              1365600 /Observation block ID                            \n",
       "OBID4   =              1365603 /Observation block ID                            \n",
       "OBID5   =              1365606 /Observation block ID                            \n",
       "OBID6   =              1365609 /Observation block ID                            \n",
       "OBID7   =              1365612 /Observation block ID                            \n",
       "OBID8   =              1365705 /Observation block ID                            \n",
       "OBID9   =              1365708 /Observation block ID                            \n",
       "OBID10  =              1365711 /Observation block ID                            \n",
       "OBID11  =              1365714 /Observation block ID                            \n",
       "OBID12  =              1365717 /Observation block ID                            \n",
       "OBID13  =              1365720 /Observation block ID                            \n",
       "OBID14  =              1365723 /Observation block ID                            \n",
       "OBID15  =              1365726 /Observation block ID                            \n",
       "OBID16  =              1365729 /Observation block ID                            \n",
       "OBID17  =              1365732 /Observation block ID                            \n",
       "OBID18  =              1365735 /Observation block ID                            \n",
       "OBID19  =              1365738 /Observation block ID                            \n",
       "OBID20  =              1365741 /Observation block ID                            \n",
       "OBID21  =              1365744 /Observation block ID                            \n",
       "OBID22  =              1365747 /Observation block ID                            \n",
       "OBID23  =              1365750 /Observation block ID                            \n",
       "OBID24  =              1365753 /Observation block ID                            \n",
       "OBID25  =              1365756 /Observation block ID                            \n",
       "OBID26  =              1365759 /Observation block ID                            \n",
       "M_EPOCH =                    T /                                                \n",
       "PROV1   = 'VIMOS.2016-03-07T00:49:03.277.fits' /                                \n",
       "PROV2   = 'VIMOS.2016-03-07T00:57:28.384.fits' /                                \n",
       "PROV3   = 'VIMOS.2016-03-07T01:05:53.378.fits' /                                \n",
       "PROV4   = 'VIMOS.2016-03-07T01:14:18.384.fits' /                                \n",
       "PROV5   = 'VIMOS.2016-03-07T01:23:21.094.fits' /                                \n",
       "PROV6   = 'VIMOS.2016-03-07T01:34:16.387.fits' /                                \n",
       "PROV7   = 'VIMOS.2016-03-07T01:45:11.388.fits' /                                \n",
       "PROV8   = 'VIMOS.2016-03-07T01:56:06.391.fits' /                                \n",
       "PROV9   = 'VIMOS.2016-03-07T02:29:10.998.fits' /                                \n",
       "PROV10  = 'VIMOS.2016-03-07T02:45:06.413.fits' /                                \n",
       "PROV11  = 'VIMOS.2016-03-07T03:01:02.368.fits' /                                \n",
       "PROV12  = 'VIMOS.2016-03-07T03:16:58.391.fits' /                                \n",
       "PROV13  = 'VIMOS.2016-03-07T03:33:28.911.fits' /                                \n",
       "PROV14  = 'VIMOS.2016-03-07T03:49:25.384.fits' /                                \n",
       "PROV15  = 'VIMOS.2016-03-07T04:05:21.380.fits' /                                \n",
       "PROV16  = 'VIMOS.2016-03-07T04:21:17.504.fits' /                                \n",
       "PROV17  = 'VIMOS.2016-03-07T04:37:46.072.fits' /                                \n",
       "PROV18  = 'VIMOS.2016-03-07T04:53:41.387.fits' /                                \n",
       "PROV19  = 'VIMOS.2016-03-07T05:09:36.463.fits' /                                \n",
       "PROV20  = 'VIMOS.2016-03-07T05:25:32.391.fits' /                                \n",
       "PROV21  = 'VIMOS.2016-03-07T06:02:18.851.fits' /                                \n",
       "PROV22  = 'VIMOS.2016-03-07T06:10:44.387.fits' /                                \n",
       "PROV23  = 'VIMOS.2016-03-07T06:19:09.434.fits' /                                \n",
       "PROV24  = 'VIMOS.2016-03-07T06:27:34.557.fits' /                                \n",
       "PROV25  = 'VIMOS.2016-03-07T06:36:46.647.fits' /                                \n",
       "PROV26  = 'VIMOS.2016-03-07T06:45:11.483.fits' /                                \n",
       "PROV27  = 'VIMOS.2016-03-07T06:53:36.399.fits' /                                \n",
       "PROV28  = 'VIMOS.2016-03-07T07:02:01.405.fits' /                                \n",
       "PROV29  = 'VIMOS.2016-03-09T02:20:52.630.fits' /                                \n",
       "PROV30  = 'VIMOS.2016-03-09T02:36:47.934.fits' /                                \n",
       "PROV31  = 'VIMOS.2016-03-09T02:52:42.936.fits' /                                \n",
       "PROV32  = 'VIMOS.2016-03-09T03:08:38.949.fits' /                                \n",
       "PROV33  = 'VIMOS.2016-03-09T03:25:24.998.fits' /                                \n",
       "PROV34  = 'VIMOS.2016-03-09T03:41:20.932.fits' /                                \n",
       "PROV35  = 'VIMOS.2016-03-09T03:57:15.967.fits' /                                \n",
       "PROV36  = 'VIMOS.2016-03-09T04:13:10.960.fits' /                                \n",
       "PROV37  = 'VIMOS.2016-03-09T04:29:52.138.fits' /                                \n",
       "PROV38  = 'VIMOS.2016-03-09T04:45:47.923.fits' /                                \n",
       "PROV39  = 'VIMOS.2016-03-09T05:01:43.937.fits' /                                \n",
       "PROV40  = 'VIMOS.2016-03-09T05:17:38.931.fits' /                                \n",
       "PROV41  = 'VIMOS.2016-03-10T00:26:49.964.fits' /                                \n",
       "PROV42  = 'VIMOS.2016-03-10T00:35:15.631.fits' /                                \n",
       "PROV43  = 'VIMOS.2016-03-10T00:43:40.624.fits' /                                \n",
       "PROV44  = 'VIMOS.2016-03-10T00:52:05.631.fits' /                                \n",
       "PROV45  = 'VIMOS.2016-03-10T01:01:16.551.fits' /                                \n",
       "PROV46  = 'VIMOS.2016-03-10T01:12:11.632.fits' /                                \n",
       "PROV47  = 'VIMOS.2016-03-10T01:23:06.612.fits' /                                \n",
       "PROV48  = 'VIMOS.2016-03-10T01:34:01.634.fits' /                                \n",
       "PROV49  = 'VIMOS.2016-03-10T02:06:26.716.fits' /                                \n",
       "PROV50  = 'VIMOS.2016-03-10T02:22:22.631.fits' /                                \n",
       "PROV51  = 'VIMOS.2016-03-10T02:38:18.636.fits' /                                \n",
       "PROV52  = 'VIMOS.2016-03-10T02:54:14.631.fits' /                                \n",
       "PROV53  = 'VIMOS.2016-03-10T03:10:56.549.fits' /                                \n",
       "PROV54  = 'VIMOS.2016-03-10T03:26:51.635.fits' /                                \n",
       "PROV55  = 'VIMOS.2016-03-10T03:42:47.640.fits' /                                \n",
       "PROV56  = 'VIMOS.2016-03-10T03:58:43.654.fits' /                                \n",
       "PROV57  = 'VIMOS.2016-03-10T04:15:17.332.fits' /                                \n",
       "PROV58  = 'VIMOS.2016-03-10T04:31:12.648.fits' /                                \n",
       "PROV59  = 'VIMOS.2016-03-10T04:47:07.643.fits' /                                \n",
       "PROV60  = 'VIMOS.2016-03-10T05:03:03.627.fits' /                                \n",
       "PROV61  = 'VIMOS.2016-03-11T02:33:05.056.fits' /                                \n",
       "PROV62  = 'VIMOS.2016-03-11T02:49:00.161.fits' /                                \n",
       "PROV63  = 'VIMOS.2016-03-11T06:24:50.495.fits' /                                \n",
       "PROV64  = 'VIMOS.2016-03-11T06:33:15.151.fits' /                                \n",
       "PROV65  = 'VIMOS.2016-03-11T06:41:40.157.fits' /                                \n",
       "PROV66  = 'VIMOS.2016-03-11T06:50:05.162.fits' /                                \n",
       "PROV67  = 'VIMOS.2016-03-12T00:26:28.107.fits' /                                \n",
       "PROV68  = 'VIMOS.2016-03-12T00:34:53.492.fits' /                                \n",
       "PROV69  = 'VIMOS.2016-03-12T00:43:18.507.fits' /                                \n",
       "PROV70  = 'VIMOS.2016-03-12T00:51:43.503.fits' /                                \n",
       "PROV71  = 'VIMOS.2016-03-12T01:01:07.203.fits' /                                \n",
       "PROV72  = 'VIMOS.2016-03-12T01:12:02.496.fits' /                                \n",
       "PROV73  = 'VIMOS.2016-03-12T01:22:57.498.fits' /                                \n",
       "PROV74  = 'VIMOS.2016-03-12T01:33:52.489.fits' /                                \n",
       "PROV75  = 'VIMOS.2016-03-12T03:26:27.644.fits' /                                \n",
       "PROV76  = 'VIMOS.2016-03-12T03:42:23.500.fits' /                                \n",
       "PROV77  = 'VIMOS.2016-03-12T03:58:19.502.fits' /                                \n",
       "PROV78  = 'VIMOS.2016-03-12T04:14:15.496.fits' /                                \n",
       "PROV79  = 'VIMOS.2016-03-12T04:31:01.855.fits' /                                \n",
       "PROV80  = 'VIMOS.2016-03-12T04:46:57.499.fits' /                                \n",
       "PROV81  = 'VIMOS.2016-03-12T05:02:53.496.fits' /                                \n",
       "PROV82  = 'VIMOS.2016-03-12T05:18:49.497.fits' /                                \n",
       "PROV83  = 'VIMOS.2016-03-12T05:57:40.351.fits' /                                \n",
       "PROV84  = 'VIMOS.2016-03-12T06:07:45.876.fits' /                                \n",
       "PROV85  = 'VIMOS.2016-03-12T06:17:50.502.fits' /                                \n",
       "PROV86  = 'VIMOS.2016-03-12T06:27:55.498.fits' /                                \n",
       "PROV87  = 'VIMOS.2016-03-13T00:28:56.130.fits' /                                \n",
       "PROV88  = 'VIMOS.2016-03-13T00:39:51.281.fits' /                                \n",
       "PROV89  = 'VIMOS.2016-03-13T00:50:46.283.fits' /                                \n",
       "PROV90  = 'VIMOS.2016-03-13T01:01:41.284.fits' /                                \n",
       "PROV91  = 'VIMOS.2016-03-13T01:13:13.419.fits' /                                \n",
       "PROV92  = 'VIMOS.2016-03-13T01:24:08.279.fits' /                                \n",
       "PROV93  = 'VIMOS.2016-03-13T01:35:03.291.fits' /                                \n",
       "PROV94  = 'VIMOS.2016-03-13T01:45:58.293.fits' /                                \n",
       "PROV95  = 'VIMOS.2016-03-13T02:17:53.840.fits' /                                \n",
       "PROV96  = 'VIMOS.2016-03-13T02:33:49.293.fits' /                                \n",
       "PROV97  = 'VIMOS.2016-03-13T02:49:45.287.fits' /                                \n",
       "PROV98  = 'VIMOS.2016-03-13T03:05:41.291.fits' /                                \n",
       "PROV99  = 'VIMOS.2016-03-13T03:22:33.640.fits' /                                \n",
       "PROV100 = 'VIMOS.2016-03-13T03:38:29.292.fits' /                                \n",
       "PROV101 = 'VIMOS.2016-03-13T03:54:25.294.fits' /                                \n",
       "PROV102 = 'VIMOS.2016-03-13T04:10:20.301.fits' /                                \n",
       "PROV103 = 'VIMOS.2016-03-13T04:27:02.456.fits' /                                \n",
       "PROV104 = 'VIMOS.2016-03-13T04:42:58.340.fits' /                                \n",
       "PROV105 = 'VIMOS.2016-03-13T04:58:54.284.fits' /                                \n",
       "PROV106 = 'VIMOS.2016-03-13T05:14:50.288.fits' /                                \n",
       "PROV107 = 'VIMOS.2016-03-13T05:53:41.740.fits' /                                \n",
       "PROV108 = 'VIMOS.2016-03-13T06:04:37.301.fits' /                                \n",
       "PROV109 = 'VIMOS.2016-03-13T06:15:32.293.fits' /                                \n",
       "PROV110 = 'VIMOS.2016-03-13T06:26:27.292.fits' /                                \n",
       "PROV111 = 'VIMOS.2016-03-14T00:27:34.115.fits' /                                \n",
       "PROV112 = 'VIMOS.2016-03-14T00:35:58.752.fits' /                                \n",
       "PROV113 = 'VIMOS.2016-03-14T00:44:23.726.fits' /                                \n",
       "PROV114 = 'VIMOS.2016-03-14T00:52:48.731.fits' /                                \n",
       "PROV115 = 'VIMOS.2016-03-14T01:02:18.514.fits' /                                \n",
       "PROV116 = 'VIMOS.2016-03-14T01:13:13.736.fits' /                                \n",
       "PROV117 = 'VIMOS.2016-03-14T01:24:08.740.fits' /                                \n",
       "PROV118 = 'VIMOS.2016-03-14T01:35:03.732.fits' /                                \n",
       "PROV119 = 'VIMOS.2016-03-14T02:06:02.616.fits' /                                \n",
       "PROV120 = 'VIMOS.2016-03-14T02:21:57.741.fits' /                                \n",
       "PROV121 = 'VIMOS.2016-03-14T02:37:53.728.fits' /                                \n",
       "PROV122 = 'VIMOS.2016-03-14T02:53:49.740.fits' /                                \n",
       "PROV123 = 'VIMOS.2016-03-14T03:10:39.561.fits' /                                \n",
       "PROV124 = 'VIMOS.2016-03-14T03:26:35.735.fits' /                                \n",
       "PROV125 = 'VIMOS.2016-03-14T03:42:31.749.fits' /                                \n",
       "PROV126 = 'VIMOS.2016-03-14T03:58:27.738.fits' /                                \n",
       "PROV127 = 'VIMOS.2016-03-14T04:15:15.686.fits' /                                \n",
       "PROV128 = 'VIMOS.2016-03-14T04:31:10.751.fits' /                                \n",
       "PROV129 = 'VIMOS.2016-03-14T04:47:06.736.fits' /                                \n",
       "PROV130 = 'VIMOS.2016-03-14T05:03:01.751.fits' /                                \n",
       "PROV131 = 'VIMOS.2016-03-14T05:41:28.574.fits' /                                \n",
       "PROV132 = 'VIMOS.2016-03-14T05:52:23.727.fits' /                                \n",
       "PROV133 = 'VIMOS.2016-03-14T06:03:18.739.fits' /                                \n",
       "PROV134 = 'VIMOS.2016-03-14T06:14:13.731.fits' /                                \n",
       "PRODCATG= 'SCIENCE.SPECTRUM'   /                                                \n",
       "PROCSOFT= 'Reflex 2.8, vimos 3.1.7' /                                           \n",
       "OBSTECH = 'MOS,NODDING'        /                                                \n",
       "FLUXCAL = 'ABSOLUTE'           /                                                \n",
       "CONTNORM=                    F /                                                \n",
       "WAVELMIN=              654.130 /                                                \n",
       "WAVELMAX=              901.450 /                                                \n",
       "SPEC_BIN=            0.0600000 /                                                \n",
       "TOT_FLUX=                    F /                                                \n",
       "FLUXERR =                  10.                                                  \n",
       "REFERENC= '2016ApJS..223...29V' /                                               \n",
       "SNR     =        9.90000000000 /                                                \n",
       "SPEC_RES=                 2500 /                                                \n",
       "NCOMBINE=                  134 /                                                \n",
       "DATASUM = '0       '           / data unit checksum updated 2018-06-13T13:04:26 \n",
       "CHECKSUM= '7FAoAF3n7F9nAF9n'   / HDU checksum updated 2018-06-13T13:04:26       \n",
       "TUTYP3  = 'Spectrum.Data.FluxAxis.Accuracy.StatError'                           \n",
       "TUTYP4  = 'Spectrum.Data.FluxAxis.Quality'                                      "
      ]
     },
     "execution_count": 14,
     "metadata": {},
     "output_type": "execute_result"
    }
   ],
   "source": [
    "legaspechdr"
   ]
  },
  {
   "cell_type": "code",
   "execution_count": 15,
   "metadata": {},
   "outputs": [
    {
     "data": {
      "text/plain": [
       "SIMPLE  =                    T /Written by IDL:  Wed Jun 13 14:45:05 2018       \n",
       "BITPIX  =                    8 /                                                \n",
       "NAXIS   =                    0 /                                                \n",
       "EXTEND  =                    T /File contains extensions                        \n",
       "DATE    = '2018-06-13'         /                                                \n",
       "ORIGIN  = 'ESO     '           /European Southern Observatory                   \n",
       "TELESCOP= 'ESO-VLT-U3'         /ESO <TEL>                                       \n",
       "INSTRUME= 'VIMOS   '           /Instrument used                                 \n",
       "DISPELEM= 'HR_red  '           /                                                \n",
       "SPECSYS = 'TOPOCENT'           /                                                \n",
       "OBJECT  = 'M13_230105'         /                                                \n",
       "EXT_OBJ =                    T /                                                \n",
       "RA      =           149.919083 /UltraVISTA catalog R.A.                         \n",
       "DEC     =             2.760555 /UltraVISTA catalog Dec.                         \n",
       "EQUINOX =                 2000 /Standard FK5                                    \n",
       "RADECSYS= 'FK5     '           /                                                \n",
       "EXPTIME =              96999.3 /Total integration time per pixel (s)            \n",
       "TEXPTIME=              96999.3 /Total integration time in spectrum (s)          \n",
       "MJD-OBS =       57454.03406600 /                                                \n",
       "MJD-END =       57461.26682536 /                                                \n",
       "PROG_ID = '194.A-2005(I)'      /                                                \n",
       "OBID1   =              1365594 /Observation block ID                            \n",
       "OBID2   =              1365597 /Observation block ID                            \n",
       "OBID3   =              1365600 /Observation block ID                            \n",
       "OBID4   =              1365603 /Observation block ID                            \n",
       "OBID5   =              1365606 /Observation block ID                            \n",
       "OBID6   =              1365609 /Observation block ID                            \n",
       "OBID7   =              1365612 /Observation block ID                            \n",
       "OBID8   =              1365705 /Observation block ID                            \n",
       "OBID9   =              1365708 /Observation block ID                            \n",
       "OBID10  =              1365711 /Observation block ID                            \n",
       "OBID11  =              1365714 /Observation block ID                            \n",
       "OBID12  =              1365717 /Observation block ID                            \n",
       "OBID13  =              1365720 /Observation block ID                            \n",
       "OBID14  =              1365723 /Observation block ID                            \n",
       "OBID15  =              1365726 /Observation block ID                            \n",
       "OBID16  =              1365729 /Observation block ID                            \n",
       "OBID17  =              1365732 /Observation block ID                            \n",
       "OBID18  =              1365735 /Observation block ID                            \n",
       "OBID19  =              1365738 /Observation block ID                            \n",
       "OBID20  =              1365741 /Observation block ID                            \n",
       "OBID21  =              1365744 /Observation block ID                            \n",
       "OBID22  =              1365747 /Observation block ID                            \n",
       "OBID23  =              1365750 /Observation block ID                            \n",
       "OBID24  =              1365753 /Observation block ID                            \n",
       "OBID25  =              1365756 /Observation block ID                            \n",
       "OBID26  =              1365759 /Observation block ID                            \n",
       "M_EPOCH =                    T /                                                \n",
       "PROV1   = 'VIMOS.2016-03-07T00:49:03.277.fits' /                                \n",
       "PROV2   = 'VIMOS.2016-03-07T00:57:28.384.fits' /                                \n",
       "PROV3   = 'VIMOS.2016-03-07T01:05:53.378.fits' /                                \n",
       "PROV4   = 'VIMOS.2016-03-07T01:14:18.384.fits' /                                \n",
       "PROV5   = 'VIMOS.2016-03-07T01:23:21.094.fits' /                                \n",
       "PROV6   = 'VIMOS.2016-03-07T01:34:16.387.fits' /                                \n",
       "PROV7   = 'VIMOS.2016-03-07T01:45:11.388.fits' /                                \n",
       "PROV8   = 'VIMOS.2016-03-07T01:56:06.391.fits' /                                \n",
       "PROV9   = 'VIMOS.2016-03-07T02:29:10.998.fits' /                                \n",
       "PROV10  = 'VIMOS.2016-03-07T02:45:06.413.fits' /                                \n",
       "PROV11  = 'VIMOS.2016-03-07T03:01:02.368.fits' /                                \n",
       "PROV12  = 'VIMOS.2016-03-07T03:16:58.391.fits' /                                \n",
       "PROV13  = 'VIMOS.2016-03-07T03:33:28.911.fits' /                                \n",
       "PROV14  = 'VIMOS.2016-03-07T03:49:25.384.fits' /                                \n",
       "PROV15  = 'VIMOS.2016-03-07T04:05:21.380.fits' /                                \n",
       "PROV16  = 'VIMOS.2016-03-07T04:21:17.504.fits' /                                \n",
       "PROV17  = 'VIMOS.2016-03-07T04:37:46.072.fits' /                                \n",
       "PROV18  = 'VIMOS.2016-03-07T04:53:41.387.fits' /                                \n",
       "PROV19  = 'VIMOS.2016-03-07T05:09:36.463.fits' /                                \n",
       "PROV20  = 'VIMOS.2016-03-07T05:25:32.391.fits' /                                \n",
       "PROV21  = 'VIMOS.2016-03-07T06:02:18.851.fits' /                                \n",
       "PROV22  = 'VIMOS.2016-03-07T06:10:44.387.fits' /                                \n",
       "PROV23  = 'VIMOS.2016-03-07T06:19:09.434.fits' /                                \n",
       "PROV24  = 'VIMOS.2016-03-07T06:27:34.557.fits' /                                \n",
       "PROV25  = 'VIMOS.2016-03-07T06:36:46.647.fits' /                                \n",
       "PROV26  = 'VIMOS.2016-03-07T06:45:11.483.fits' /                                \n",
       "PROV27  = 'VIMOS.2016-03-07T06:53:36.399.fits' /                                \n",
       "PROV28  = 'VIMOS.2016-03-07T07:02:01.405.fits' /                                \n",
       "PROV29  = 'VIMOS.2016-03-09T02:20:52.630.fits' /                                \n",
       "PROV30  = 'VIMOS.2016-03-09T02:36:47.934.fits' /                                \n",
       "PROV31  = 'VIMOS.2016-03-09T02:52:42.936.fits' /                                \n",
       "PROV32  = 'VIMOS.2016-03-09T03:08:38.949.fits' /                                \n",
       "PROV33  = 'VIMOS.2016-03-09T03:25:24.998.fits' /                                \n",
       "PROV34  = 'VIMOS.2016-03-09T03:41:20.932.fits' /                                \n",
       "PROV35  = 'VIMOS.2016-03-09T03:57:15.967.fits' /                                \n",
       "PROV36  = 'VIMOS.2016-03-09T04:13:10.960.fits' /                                \n",
       "PROV37  = 'VIMOS.2016-03-09T04:29:52.138.fits' /                                \n",
       "PROV38  = 'VIMOS.2016-03-09T04:45:47.923.fits' /                                \n",
       "PROV39  = 'VIMOS.2016-03-09T05:01:43.937.fits' /                                \n",
       "PROV40  = 'VIMOS.2016-03-09T05:17:38.931.fits' /                                \n",
       "PROV41  = 'VIMOS.2016-03-10T00:26:49.964.fits' /                                \n",
       "PROV42  = 'VIMOS.2016-03-10T00:35:15.631.fits' /                                \n",
       "PROV43  = 'VIMOS.2016-03-10T00:43:40.624.fits' /                                \n",
       "PROV44  = 'VIMOS.2016-03-10T00:52:05.631.fits' /                                \n",
       "PROV45  = 'VIMOS.2016-03-10T01:01:16.551.fits' /                                \n",
       "PROV46  = 'VIMOS.2016-03-10T01:12:11.632.fits' /                                \n",
       "PROV47  = 'VIMOS.2016-03-10T01:23:06.612.fits' /                                \n",
       "PROV48  = 'VIMOS.2016-03-10T01:34:01.634.fits' /                                \n",
       "PROV49  = 'VIMOS.2016-03-10T02:06:26.716.fits' /                                \n",
       "PROV50  = 'VIMOS.2016-03-10T02:22:22.631.fits' /                                \n",
       "PROV51  = 'VIMOS.2016-03-10T02:38:18.636.fits' /                                \n",
       "PROV52  = 'VIMOS.2016-03-10T02:54:14.631.fits' /                                \n",
       "PROV53  = 'VIMOS.2016-03-10T03:10:56.549.fits' /                                \n",
       "PROV54  = 'VIMOS.2016-03-10T03:26:51.635.fits' /                                \n",
       "PROV55  = 'VIMOS.2016-03-10T03:42:47.640.fits' /                                \n",
       "PROV56  = 'VIMOS.2016-03-10T03:58:43.654.fits' /                                \n",
       "PROV57  = 'VIMOS.2016-03-10T04:15:17.332.fits' /                                \n",
       "PROV58  = 'VIMOS.2016-03-10T04:31:12.648.fits' /                                \n",
       "PROV59  = 'VIMOS.2016-03-10T04:47:07.643.fits' /                                \n",
       "PROV60  = 'VIMOS.2016-03-10T05:03:03.627.fits' /                                \n",
       "PROV61  = 'VIMOS.2016-03-11T02:33:05.056.fits' /                                \n",
       "PROV62  = 'VIMOS.2016-03-11T02:49:00.161.fits' /                                \n",
       "PROV63  = 'VIMOS.2016-03-11T06:24:50.495.fits' /                                \n",
       "PROV64  = 'VIMOS.2016-03-11T06:33:15.151.fits' /                                \n",
       "PROV65  = 'VIMOS.2016-03-11T06:41:40.157.fits' /                                \n",
       "PROV66  = 'VIMOS.2016-03-11T06:50:05.162.fits' /                                \n",
       "PROV67  = 'VIMOS.2016-03-12T00:26:28.107.fits' /                                \n",
       "PROV68  = 'VIMOS.2016-03-12T00:34:53.492.fits' /                                \n",
       "PROV69  = 'VIMOS.2016-03-12T00:43:18.507.fits' /                                \n",
       "PROV70  = 'VIMOS.2016-03-12T00:51:43.503.fits' /                                \n",
       "PROV71  = 'VIMOS.2016-03-12T01:01:07.203.fits' /                                \n",
       "PROV72  = 'VIMOS.2016-03-12T01:12:02.496.fits' /                                \n",
       "PROV73  = 'VIMOS.2016-03-12T01:22:57.498.fits' /                                \n",
       "PROV74  = 'VIMOS.2016-03-12T01:33:52.489.fits' /                                \n",
       "PROV75  = 'VIMOS.2016-03-12T03:26:27.644.fits' /                                \n",
       "PROV76  = 'VIMOS.2016-03-12T03:42:23.500.fits' /                                \n",
       "PROV77  = 'VIMOS.2016-03-12T03:58:19.502.fits' /                                \n",
       "PROV78  = 'VIMOS.2016-03-12T04:14:15.496.fits' /                                \n",
       "PROV79  = 'VIMOS.2016-03-12T04:31:01.855.fits' /                                \n",
       "PROV80  = 'VIMOS.2016-03-12T04:46:57.499.fits' /                                \n",
       "PROV81  = 'VIMOS.2016-03-12T05:02:53.496.fits' /                                \n",
       "PROV82  = 'VIMOS.2016-03-12T05:18:49.497.fits' /                                \n",
       "PROV83  = 'VIMOS.2016-03-12T05:57:40.351.fits' /                                \n",
       "PROV84  = 'VIMOS.2016-03-12T06:07:45.876.fits' /                                \n",
       "PROV85  = 'VIMOS.2016-03-12T06:17:50.502.fits' /                                \n",
       "PROV86  = 'VIMOS.2016-03-12T06:27:55.498.fits' /                                \n",
       "PROV87  = 'VIMOS.2016-03-13T00:28:56.130.fits' /                                \n",
       "PROV88  = 'VIMOS.2016-03-13T00:39:51.281.fits' /                                \n",
       "PROV89  = 'VIMOS.2016-03-13T00:50:46.283.fits' /                                \n",
       "PROV90  = 'VIMOS.2016-03-13T01:01:41.284.fits' /                                \n",
       "PROV91  = 'VIMOS.2016-03-13T01:13:13.419.fits' /                                \n",
       "PROV92  = 'VIMOS.2016-03-13T01:24:08.279.fits' /                                \n",
       "PROV93  = 'VIMOS.2016-03-13T01:35:03.291.fits' /                                \n",
       "PROV94  = 'VIMOS.2016-03-13T01:45:58.293.fits' /                                \n",
       "PROV95  = 'VIMOS.2016-03-13T02:17:53.840.fits' /                                \n",
       "PROV96  = 'VIMOS.2016-03-13T02:33:49.293.fits' /                                \n",
       "PROV97  = 'VIMOS.2016-03-13T02:49:45.287.fits' /                                \n",
       "PROV98  = 'VIMOS.2016-03-13T03:05:41.291.fits' /                                \n",
       "PROV99  = 'VIMOS.2016-03-13T03:22:33.640.fits' /                                \n",
       "PROV100 = 'VIMOS.2016-03-13T03:38:29.292.fits' /                                \n",
       "PROV101 = 'VIMOS.2016-03-13T03:54:25.294.fits' /                                \n",
       "PROV102 = 'VIMOS.2016-03-13T04:10:20.301.fits' /                                \n",
       "PROV103 = 'VIMOS.2016-03-13T04:27:02.456.fits' /                                \n",
       "PROV104 = 'VIMOS.2016-03-13T04:42:58.340.fits' /                                \n",
       "PROV105 = 'VIMOS.2016-03-13T04:58:54.284.fits' /                                \n",
       "PROV106 = 'VIMOS.2016-03-13T05:14:50.288.fits' /                                \n",
       "PROV107 = 'VIMOS.2016-03-13T05:53:41.740.fits' /                                \n",
       "PROV108 = 'VIMOS.2016-03-13T06:04:37.301.fits' /                                \n",
       "PROV109 = 'VIMOS.2016-03-13T06:15:32.293.fits' /                                \n",
       "PROV110 = 'VIMOS.2016-03-13T06:26:27.292.fits' /                                \n",
       "PROV111 = 'VIMOS.2016-03-14T00:27:34.115.fits' /                                \n",
       "PROV112 = 'VIMOS.2016-03-14T00:35:58.752.fits' /                                \n",
       "PROV113 = 'VIMOS.2016-03-14T00:44:23.726.fits' /                                \n",
       "PROV114 = 'VIMOS.2016-03-14T00:52:48.731.fits' /                                \n",
       "PROV115 = 'VIMOS.2016-03-14T01:02:18.514.fits' /                                \n",
       "PROV116 = 'VIMOS.2016-03-14T01:13:13.736.fits' /                                \n",
       "PROV117 = 'VIMOS.2016-03-14T01:24:08.740.fits' /                                \n",
       "PROV118 = 'VIMOS.2016-03-14T01:35:03.732.fits' /                                \n",
       "PROV119 = 'VIMOS.2016-03-14T02:06:02.616.fits' /                                \n",
       "PROV120 = 'VIMOS.2016-03-14T02:21:57.741.fits' /                                \n",
       "PROV121 = 'VIMOS.2016-03-14T02:37:53.728.fits' /                                \n",
       "PROV122 = 'VIMOS.2016-03-14T02:53:49.740.fits' /                                \n",
       "PROV123 = 'VIMOS.2016-03-14T03:10:39.561.fits' /                                \n",
       "PROV124 = 'VIMOS.2016-03-14T03:26:35.735.fits' /                                \n",
       "PROV125 = 'VIMOS.2016-03-14T03:42:31.749.fits' /                                \n",
       "PROV126 = 'VIMOS.2016-03-14T03:58:27.738.fits' /                                \n",
       "PROV127 = 'VIMOS.2016-03-14T04:15:15.686.fits' /                                \n",
       "PROV128 = 'VIMOS.2016-03-14T04:31:10.751.fits' /                                \n",
       "PROV129 = 'VIMOS.2016-03-14T04:47:06.736.fits' /                                \n",
       "PROV130 = 'VIMOS.2016-03-14T05:03:01.751.fits' /                                \n",
       "PROV131 = 'VIMOS.2016-03-14T05:41:28.574.fits' /                                \n",
       "PROV132 = 'VIMOS.2016-03-14T05:52:23.727.fits' /                                \n",
       "PROV133 = 'VIMOS.2016-03-14T06:03:18.739.fits' /                                \n",
       "PROV134 = 'VIMOS.2016-03-14T06:14:13.731.fits' /                                \n",
       "PRODCATG= 'SCIENCE.SPECTRUM'   /                                                \n",
       "PROCSOFT= 'Reflex 2.8, vimos 3.1.7' /                                           \n",
       "OBSTECH = 'MOS,NODDING'        /                                                \n",
       "FLUXCAL = 'ABSOLUTE'           /                                                \n",
       "CONTNORM=                    F /                                                \n",
       "WAVELMIN=              654.130 /                                                \n",
       "WAVELMAX=              901.450 /                                                \n",
       "SPEC_BIN=            0.0600000 /                                                \n",
       "TOT_FLUX=                    F /                                                \n",
       "FLUXERR =                  10.                                                  \n",
       "REFERENC= '2016ApJS..223...29V' /                                               \n",
       "SNR     =        9.90000000000 /                                                \n",
       "SPEC_RES=                 2500 /                                                \n",
       "NCOMBINE=                  134 /                                                \n",
       "DATASUM = '0       '           / data unit checksum updated 2018-06-13T13:04:26 \n",
       "CHECKSUM= '7FAoAF3n7F9nAF9n'   / HDU checksum updated 2018-06-13T13:04:26       \n",
       "TUTYP3  = 'Spectrum.Data.FluxAxis.Accuracy.StatError'                           \n",
       "TUTYP4  = 'Spectrum.Data.FluxAxis.Quality'                                      "
      ]
     },
     "execution_count": 15,
     "metadata": {},
     "output_type": "execute_result"
    }
   ],
   "source": [
    "favhdr"
   ]
  },
  {
   "cell_type": "markdown",
   "metadata": {},
   "source": [
    "If you scroll through the LEGAC header we have WAVELMIN that we can use as CRVAL1--we just have to convert from nanometers to Angstroms. And we have SPEC_BIN which we can use as the CDELT1, but we must also convert it to Angstroms. There's also another important thing to check and that's whether using those two values we get the right wavelength array."
   ]
  },
  {
   "cell_type": "code",
   "execution_count": 16,
   "metadata": {},
   "outputs": [],
   "source": [
    "nwave = (legaspechdr['WAVELMAX'] - legaspechdr['WAVELMIN'])/legaspechdr['SPEC_BIN'] + 1\n",
    "\n",
    "#Using header values to get wavelengths\n",
    "waves_nm = legaspechdr['WAVELMIN'] + legaspechdr['SPEC_BIN']*np.arange(nwave)\n",
    "waves_ang = waves_nm*10\n",
    "\n",
    "#Setting header values to SSPMODEL expected header variable names\n",
    "cdelt = legaspechdr['SPEC_BIN']*10\n",
    "crval1 = legaspechdr['WAVELMIN']*10"
   ]
  },
  {
   "cell_type": "markdown",
   "metadata": {},
   "source": [
    "To check that the WAVELMIN and SPEC_BIN values work as we expect, we compare what we have in waves_ang to what is in the binary FITS Table included in the LEGAC spectrum column WAVE"
   ]
  },
  {
   "cell_type": "code",
   "execution_count": 17,
   "metadata": {},
   "outputs": [
    {
     "data": {
      "text/plain": [
       "ColDefs(\n",
       "    name = 'WAVE'; format = '6166E'; unit = 'angstrom'\n",
       "    name = 'FLUX'; format = '6166E'; unit = '10**(-19) erg cm**(-2) s**(-1) angstrom**(-1)'\n",
       "    name = 'ERR'; format = '6166E'; unit = '10**(-19) erg cm**(-2) s**(-1) angstrom**(-1)'\n",
       "    name = 'QUAL'; format = '6166I'\n",
       ")"
      ]
     },
     "execution_count": 17,
     "metadata": {},
     "output_type": "execute_result"
    }
   ],
   "source": [
    "legaspectab = legaspechdu[1].data\n",
    "legaspectab.columns\n"
   ]
  },
  {
   "cell_type": "code",
   "execution_count": 18,
   "metadata": {},
   "outputs": [],
   "source": [
    "#Grab Binary FITS Table Columns for spectrum's wavelength and flux\n",
    "flux_tab = legaspectab['FLUX']\n",
    "wave_tab = legaspectab['WAVE']"
   ]
  },
  {
   "cell_type": "code",
   "execution_count": 19,
   "metadata": {},
   "outputs": [
    {
     "name": "stdout",
     "output_type": "stream",
     "text": [
      "[6541.3 6541.9 6542.5 ... 9013.9 9014.5 9015.1]\n",
      "[[5800.3 5800.9 5801.5 ... 9498.1 9498.7 9499.3]]\n",
      "[[0. 0. 0. ... 0. 0. 0.]]\n"
     ]
    }
   ],
   "source": [
    "print(waves_ang) # This is for the legac original header\n",
    "print(wave_tab) # THis is for the fits file we are makinG?\n",
    "print(flux_tab)"
   ]
  },
  {
   "cell_type": "markdown",
   "metadata": {},
   "source": [
    "There seems to be a mismatch. It turns out the keywords in the LEGAC header point to the region of the spectrum where there are nonzero valid flux parameters. So, we'll want to make sure we only grab those nonzero flux points. When we compare the wavelengths we get from using the keywords to the wavelengths for the valid flux parameters, they match."
   ]
  },
  {
   "cell_type": "code",
   "execution_count": 20,
   "metadata": {},
   "outputs": [
    {
     "name": "stdout",
     "output_type": "stream",
     "text": [
      "[6787.3 6787.9 6788.5 ... 9270.7 9271.3 9271.9]\n",
      "[6541.3 6541.9 6542.5 ... 9013.9 9014.5 9015.1]\n"
     ]
    }
   ],
   "source": [
    "wave_good = wave_tab[flux_tab != 0]\n",
    "flux_good = flux_tab[flux_tab != 0]*1e-19\n",
    "nwave_good = len(wave_good)\n",
    "print(wave_good)\n",
    "print(waves_ang)"
   ]
  },
  {
   "cell_type": "markdown",
   "metadata": {},
   "source": [
    "Now, we can go about writing the spectrum to a 1D spectrum FITS file for SSPMODEL. As we saw above the SSPMODEL style spectrum is saved to a single PrimaryHDU. We then set the CRVAL1 and CDELT1 keywords. To make sure we have a properly formatted NAXIS keywords, we use None in the first index as we set the data of the PrimaryHDU. We then check that the header looks valid. And finally write the fits file."
   ]
  },
  {
   "cell_type": "code",
   "execution_count": 21,
   "metadata": {},
   "outputs": [],
   "source": [
    "#Save spectrum's flux to PrimaryHDU\n",
    "phdu = fits.PrimaryHDU(data=flux_good[None,:])\n",
    "#Set wavelength keywords\n",
    "phdu.header['CRVAL1'] = crval1\n",
    "phdu.header['CDELT1'] = cdelt"
   ]
  },
  {
   "cell_type": "code",
   "execution_count": 22,
   "metadata": {},
   "outputs": [
    {
     "data": {
      "text/plain": [
       "SIMPLE  =                    T / conforms to FITS standard                      \n",
       "BITPIX  =                  -32 / array data type                                \n",
       "NAXIS   =                    2 / number of array dimensions                     \n",
       "NAXIS1  =                 4142                                                  \n",
       "NAXIS2  =                    1                                                  \n",
       "EXTEND  =                    T                                                  \n",
       "CRVAL1  =               6541.3                                                  \n",
       "CDELT1  =                  0.6                                                  "
      ]
     },
     "execution_count": 22,
     "metadata": {},
     "output_type": "execute_result"
    }
   ],
   "source": [
    "#Check header looks correct\n",
    "phdu.header"
   ]
  },
  {
   "cell_type": "code",
   "execution_count": 23,
   "metadata": {},
   "outputs": [],
   "source": [
    "#Write the FITS file (in this case I write it to the same same directory as the original since I\n",
    "#use the split technique here to form the filename)\n",
    "phdu.writeto(legac_dir+'legac_M12_92014_v2.0.fits'+'_off_axis.fits', overwrite=True)#legafiles[0].split('.fits')[0]+'_off_axis.fits', overwrite=True)"
   ]
  },
  {
   "cell_type": "code",
   "execution_count": 24,
   "metadata": {},
   "outputs": [
    {
     "name": "stdout",
     "output_type": "stream",
     "text": [
      "Filename: /Users/aprado/Desktop/astropy/spectraDR/legac_M13_230105_v2.0.fits\n",
      "No.    Name      Ver    Type      Cards   Dimensions   Format\n",
      "  0  PRIMARY       1 PrimaryHDU     200   ()      \n",
      "  1  PHASE3SPECTRA    1 BinTableHDU     46   1R x 4C   [6166E, 6166E, 6166E, 6166I]   \n"
     ]
    }
   ],
   "source": [
    "obj0 = fav\n",
    "obj0.info()"
   ]
  },
  {
   "cell_type": "code",
   "execution_count": 25,
   "metadata": {},
   "outputs": [
    {
     "name": "stdout",
     "output_type": "stream",
     "text": [
      "[8100.7    8102.5    8103.0996 8103.7    8104.3    8104.9    8105.5\n",
      " 8106.0996 8106.7    8107.3    8107.9    8109.0996 8109.7    8766.7\n",
      " 8835.1    8884.3    8914.3    8914.9    8915.5    8916.1    8916.7\n",
      " 8917.3    8917.9    8918.5   ]\n"
     ]
    },
    {
     "data": {
      "image/png": "[encoded data removed]",
      "text/plain": [
       "<Figure size 432x288 with 1 Axes>"
      ]
     },
     "metadata": {
      "needs_background": "light"
     },
     "output_type": "display_data"
    }
   ],
   "source": [
    "# data0 = obj0[1].data\n",
    "# # SPECTRA\n",
    "wave = obj0[1].data['WAVE']\n",
    "flux = obj0[1].data['FLUX']\n",
    "#Masking to plot only nonzero values of flux (to just look at the interesting parts of the spectra)\n",
    "flux_cutoff = np.where(flux != 0)\n",
    "flux = flux[flux_cutoff]\n",
    "#Plot wave only where flux != 0\n",
    "wave = wave[flux_cutoff]\n",
    "\n",
    "fig, ax = plt.subplots()\n",
    "ax.plot(wave, flux,'-')\n",
    "ax.set_xlim(wave[0], wave[-2])\n",
    "ax.set_xlabel('Wave (A)')\n",
    "ax.set_ylabel('Flux')\n",
    "#LEGA-c spectra used for symposium PPT presentation:\n",
    "ax.set_title('legac_M13_230105_v2.0.fits')  #'legac_M12_92014_v2.0.fits')\n",
    "\n",
    "#ROUGH Estimate of wavelength ranges where emission lines occur:\n",
    "emission_lines = np.where(flux > 100)\n",
    "print(wave[emission_lines])"
   ]
  },
  {
   "cell_type": "code",
   "execution_count": 27,
   "metadata": {},
   "outputs": [],
   "source": [
    "# 'legac_M13_230105_v2.0.fits'\n",
    "\n",
    "\n",
    "# emission lines ~ 8100 Å, 8700~ishÅ"
   ]
  }
 ],
 "metadata": {
  "kernelspec": {
   "display_name": "Python 3",
   "language": "python",
   "name": "python3"
  },
  "language_info": {
   "codemirror_mode": {
    "name": "ipython",
    "version": 3
   },
   "file_extension": ".py",
   "mimetype": "text/x-python",
   "name": "python",
   "nbconvert_exporter": "python",
   "pygments_lexer": "ipython3",
   "version": "3.8.5"
  }
 },
 "nbformat": 4,
 "nbformat_minor": 4
}
