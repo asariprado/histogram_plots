{
 "cells": [
  {
   "cell_type": "code",
   "execution_count": 1,
   "metadata": {},
   "outputs": [],
   "source": [
    "import os\n",
    "import sys\n",
    "import numpy as np\n",
    "from astropy.io import fits\n",
    "import glob\n",
    "import matplotlib.pyplot as plt"
   ]
  },
  {
   "cell_type": "code",
   "execution_count": 2,
   "metadata": {},
   "outputs": [],
   "source": [
    "sspmodel_dir = '/Users/aprado/Desktop/sspmodel_py/' #'/home/gmosby/sspmodel_py_clean/sspmodel_py/'\n",
    "\n",
    "# legac_dir in general will be arbitrary\n",
    "legac_dir =  '/Users/aprado/Desktop/astropy/spectraDR/' #'/home/gmosby/LEGAC/spectraDR/'\n",
    "#Find input spectrum\n",
    "specfiles = glob.glob(sspmodel_dir+'example/*_off_axis.fits')\n",
    "# print(\"Found %d FITS files\"%(len(specfiles)))\n",
    "# print(specfiles)"
   ]
  },
  {
   "cell_type": "code",
   "execution_count": 3,
   "metadata": {},
   "outputs": [],
   "source": [
    "spechdu = fits.open(specfiles[0]) # HDU List for the sspmodel fits files\n",
    "spechdr = spechdu[0].header # Header for the sspmodel fits file\n",
    "\n",
    "# spechdr for sspmodel fits files: need to have NAXIS = 2 (so the data we save needs to have 2 dimensions)\n",
    "# So, we need NAXIS1, NAXIS2, also need CRVAL1 and CDELT1 keywords -- to reconstruct the wavelength for each flux point without carrying the wavelength array values\n",
    "# we'll use Angstroms for units"
   ]
  },
  {
   "cell_type": "code",
   "execution_count": 4,
   "metadata": {},
   "outputs": [],
   "source": [
    "# CONVERTING LEGA-C SPECTRA into 1D spectra fits files\n",
    "#Grab the FITS Binary table for the LEGA-C spectra files\n",
    "legafile = glob.glob(legac_dir+'*.fits')"
   ]
  },
  {
   "cell_type": "code",
   "execution_count": 5,
   "metadata": {},
   "outputs": [],
   "source": [
    "def convert_legac_spec(legac_file):\n",
    "    \"\"\"Converts LEGA-C Spectra FITS files to 1D Spectra fits files. \n",
    "    Takes in the name of a LEGA-C spectrum with the full path name\"\"\"\n",
    "    \n",
    "#     legafiles = glob.glob(legac_dir+'*fits')\n",
    "    legac_spec_HDU = fits.open(legac_files)\n",
    "    legac_spec_header = legac_spec_HDU[0]\n",
    "    \n",
    "    #Find the WAVELMIN & WAVELMAX info in the legac file's header to get max & min values for wavelength\n",
    "    wavel_min = legac_spec_header['WAVELMIN']\n",
    "    wavel_max = legac_spec_header['WAVELMAX']\n",
    "    spec_bin = legac_spec_header['SPEC_BIN']\n",
    "#      ['SIGMA STARS PRIME']\n",
    "    \n",
    "    \n",
    "    nwave = (wavel_max - wavel_min)/spec_bin + 1\n",
    "    \n",
    "    #Get actual wavelengths to convert from nm --> angstroms\n",
    "    waves_nm = wavel_min + spec_bin*np.arange(nwave)\n",
    "    waves_ang = waves_nm * 10\n",
    "    \n",
    "    #Use WAVELMIN as the CRVAL1 keyword in the sspmodel / 1D spec files \n",
    "    # but first need to convert units to Angstroms (or check if they're already in Angstroms?)\n",
    "    #Setting header values to the expected header variable names for SSPMODEL\n",
    "    cdelt = spec_bin * 10\n",
    "    crval1 = wavel_min * 10\n",
    "    \n",
    "    \n",
    "    #Use SPEC_BIN as the CDELT1 keyword, but also convert (or check if its in) Angstroms\n",
    "    #CRVAL1 and CDELT1 are in meters but can also use angstroms"
   ]
  }
 ],
 "metadata": {
  "kernelspec": {
   "display_name": "Python 3",
   "language": "python",
   "name": "python3"
  },
  "language_info": {
   "codemirror_mode": {
    "name": "ipython",
    "version": 3
   },
   "file_extension": ".py",
   "mimetype": "text/x-python",
   "name": "python",
   "nbconvert_exporter": "python",
   "pygments_lexer": "ipython3",
   "version": "3.8.5"
  }
 },
 "nbformat": 4,
 "nbformat_minor": 4
}
