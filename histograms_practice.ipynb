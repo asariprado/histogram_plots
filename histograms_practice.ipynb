{
 "cells": [
  {
   "cell_type": "code",
   "execution_count": 1,
   "metadata": {},
   "outputs": [],
   "source": [
    "import re\n",
    "import pandas as pd\n",
    "import numpy as np\n",
    "import seaborn as sb\n",
    "%matplotlib inline\n",
    "import matplotlib.pyplot as plt\n",
    "from matplotlib.pyplot import subplots\n",
    "# plt.style.use('seaborn-white')"
   ]
  },
  {
   "cell_type": "code",
   "execution_count": 2,
   "metadata": {},
   "outputs": [
    {
     "data": {
      "text/html": [
       "<div>\n",
       "<style scoped>\n",
       "    .dataframe tbody tr th:only-of-type {\n",
       "        vertical-align: middle;\n",
       "    }\n",
       "\n",
       "    .dataframe tbody tr th {\n",
       "        vertical-align: top;\n",
       "    }\n",
       "\n",
       "    .dataframe thead th {\n",
       "        text-align: right;\n",
       "    }\n",
       "</style>\n",
       "<table border=\"1\" class=\"dataframe\">\n",
       "  <thead>\n",
       "    <tr style=\"text-align: right;\">\n",
       "      <th></th>\n",
       "      <th>0</th>\n",
       "      <th>1</th>\n",
       "      <th>2</th>\n",
       "      <th>3</th>\n",
       "      <th>4</th>\n",
       "      <th>5</th>\n",
       "      <th>6</th>\n",
       "      <th>7</th>\n",
       "      <th>8</th>\n",
       "      <th>9</th>\n",
       "      <th>10</th>\n",
       "      <th>11</th>\n",
       "      <th>12</th>\n",
       "      <th>13</th>\n",
       "      <th>14</th>\n",
       "      <th>15</th>\n",
       "      <th>16</th>\n",
       "      <th>17</th>\n",
       "      <th>18</th>\n",
       "      <th>19</th>\n",
       "    </tr>\n",
       "  </thead>\n",
       "  <tbody>\n",
       "    <tr>\n",
       "      <th>Fitness Metric</th>\n",
       "      <td>3.351716e+01</td>\n",
       "      <td>3.351715e+01</td>\n",
       "      <td>3.351716e+01</td>\n",
       "      <td>3.351716e+01</td>\n",
       "      <td>3.351716e+01</td>\n",
       "      <td>3.351716e+01</td>\n",
       "      <td>3.351715e+01</td>\n",
       "      <td>3.351715e+01</td>\n",
       "      <td>3.351716e+01</td>\n",
       "      <td>3.351716e+01</td>\n",
       "      <td>3.351716e+01</td>\n",
       "      <td>3.351716e+01</td>\n",
       "      <td>3.351716e+01</td>\n",
       "      <td>3.351716e+01</td>\n",
       "      <td>3.351716e+01</td>\n",
       "      <td>3.351716e+01</td>\n",
       "      <td>3.351715e+01</td>\n",
       "      <td>3.351716e+01</td>\n",
       "      <td>3.351716e+01</td>\n",
       "      <td>3.351715e+01</td>\n",
       "    </tr>\n",
       "    <tr>\n",
       "      <th>best fit param 1</th>\n",
       "      <td>6.432522e-04</td>\n",
       "      <td>6.426432e-04</td>\n",
       "      <td>6.427392e-04</td>\n",
       "      <td>6.417859e-04</td>\n",
       "      <td>6.418071e-04</td>\n",
       "      <td>6.435206e-04</td>\n",
       "      <td>6.423926e-04</td>\n",
       "      <td>6.430726e-04</td>\n",
       "      <td>6.422235e-04</td>\n",
       "      <td>6.419903e-04</td>\n",
       "      <td>6.429597e-04</td>\n",
       "      <td>6.427847e-04</td>\n",
       "      <td>6.428154e-04</td>\n",
       "      <td>6.426095e-04</td>\n",
       "      <td>6.422555e-04</td>\n",
       "      <td>6.426492e-04</td>\n",
       "      <td>6.424375e-04</td>\n",
       "      <td>6.420047e-04</td>\n",
       "      <td>6.422256e-04</td>\n",
       "      <td>6.420940e-04</td>\n",
       "    </tr>\n",
       "    <tr>\n",
       "      <th>best fit param 2</th>\n",
       "      <td>2.600807e-10</td>\n",
       "      <td>1.755820e-09</td>\n",
       "      <td>2.642369e-09</td>\n",
       "      <td>5.458206e-09</td>\n",
       "      <td>3.597841e-09</td>\n",
       "      <td>7.953536e-10</td>\n",
       "      <td>3.303406e-10</td>\n",
       "      <td>7.835412e-10</td>\n",
       "      <td>4.248431e-09</td>\n",
       "      <td>5.743013e-09</td>\n",
       "      <td>6.561552e-09</td>\n",
       "      <td>3.887706e-09</td>\n",
       "      <td>3.082093e-09</td>\n",
       "      <td>3.557316e-09</td>\n",
       "      <td>2.724938e-09</td>\n",
       "      <td>1.702910e-09</td>\n",
       "      <td>8.834701e-10</td>\n",
       "      <td>8.800513e-09</td>\n",
       "      <td>1.112037e-11</td>\n",
       "      <td>1.255481e-09</td>\n",
       "    </tr>\n",
       "    <tr>\n",
       "      <th>best fit param 3</th>\n",
       "      <td>7.546402e-09</td>\n",
       "      <td>1.898622e-09</td>\n",
       "      <td>5.184653e-09</td>\n",
       "      <td>5.385129e-09</td>\n",
       "      <td>9.463879e-09</td>\n",
       "      <td>5.933108e-09</td>\n",
       "      <td>1.932812e-09</td>\n",
       "      <td>1.018195e-09</td>\n",
       "      <td>1.567518e-09</td>\n",
       "      <td>1.982005e-09</td>\n",
       "      <td>7.772604e-09</td>\n",
       "      <td>1.312933e-09</td>\n",
       "      <td>5.804128e-09</td>\n",
       "      <td>5.720328e-09</td>\n",
       "      <td>3.514833e-09</td>\n",
       "      <td>1.416117e-09</td>\n",
       "      <td>7.628571e-10</td>\n",
       "      <td>9.152099e-09</td>\n",
       "      <td>3.514882e-09</td>\n",
       "      <td>1.467199e-09</td>\n",
       "    </tr>\n",
       "    <tr>\n",
       "      <th>best fit param 4</th>\n",
       "      <td>9.995002e-01</td>\n",
       "      <td>9.995011e-01</td>\n",
       "      <td>9.995009e-01</td>\n",
       "      <td>9.995012e-01</td>\n",
       "      <td>9.995012e-01</td>\n",
       "      <td>9.995004e-01</td>\n",
       "      <td>9.995008e-01</td>\n",
       "      <td>9.995001e-01</td>\n",
       "      <td>9.995002e-01</td>\n",
       "      <td>9.995019e-01</td>\n",
       "      <td>9.995010e-01</td>\n",
       "      <td>9.995013e-01</td>\n",
       "      <td>9.995008e-01</td>\n",
       "      <td>9.995009e-01</td>\n",
       "      <td>9.995012e-01</td>\n",
       "      <td>9.995015e-01</td>\n",
       "      <td>9.995006e-01</td>\n",
       "      <td>9.995008e-01</td>\n",
       "      <td>9.995014e-01</td>\n",
       "      <td>9.995013e-01</td>\n",
       "    </tr>\n",
       "  </tbody>\n",
       "</table>\n",
       "</div>"
      ],
      "text/plain": [
       "                            0             1             2             3   \\\n",
       "Fitness Metric    3.351716e+01  3.351715e+01  3.351716e+01  3.351716e+01   \n",
       "best fit param 1  6.432522e-04  6.426432e-04  6.427392e-04  6.417859e-04   \n",
       "best fit param 2  2.600807e-10  1.755820e-09  2.642369e-09  5.458206e-09   \n",
       "best fit param 3  7.546402e-09  1.898622e-09  5.184653e-09  5.385129e-09   \n",
       "best fit param 4  9.995002e-01  9.995011e-01  9.995009e-01  9.995012e-01   \n",
       "\n",
       "                            4             5             6             7   \\\n",
       "Fitness Metric    3.351716e+01  3.351716e+01  3.351715e+01  3.351715e+01   \n",
       "best fit param 1  6.418071e-04  6.435206e-04  6.423926e-04  6.430726e-04   \n",
       "best fit param 2  3.597841e-09  7.953536e-10  3.303406e-10  7.835412e-10   \n",
       "best fit param 3  9.463879e-09  5.933108e-09  1.932812e-09  1.018195e-09   \n",
       "best fit param 4  9.995012e-01  9.995004e-01  9.995008e-01  9.995001e-01   \n",
       "\n",
       "                            8             9             10            11  \\\n",
       "Fitness Metric    3.351716e+01  3.351716e+01  3.351716e+01  3.351716e+01   \n",
       "best fit param 1  6.422235e-04  6.419903e-04  6.429597e-04  6.427847e-04   \n",
       "best fit param 2  4.248431e-09  5.743013e-09  6.561552e-09  3.887706e-09   \n",
       "best fit param 3  1.567518e-09  1.982005e-09  7.772604e-09  1.312933e-09   \n",
       "best fit param 4  9.995002e-01  9.995019e-01  9.995010e-01  9.995013e-01   \n",
       "\n",
       "                            12            13            14            15  \\\n",
       "Fitness Metric    3.351716e+01  3.351716e+01  3.351716e+01  3.351716e+01   \n",
       "best fit param 1  6.428154e-04  6.426095e-04  6.422555e-04  6.426492e-04   \n",
       "best fit param 2  3.082093e-09  3.557316e-09  2.724938e-09  1.702910e-09   \n",
       "best fit param 3  5.804128e-09  5.720328e-09  3.514833e-09  1.416117e-09   \n",
       "best fit param 4  9.995008e-01  9.995009e-01  9.995012e-01  9.995015e-01   \n",
       "\n",
       "                            16            17            18            19  \n",
       "Fitness Metric    3.351715e+01  3.351716e+01  3.351716e+01  3.351715e+01  \n",
       "best fit param 1  6.424375e-04  6.420047e-04  6.422256e-04  6.420940e-04  \n",
       "best fit param 2  8.834701e-10  8.800513e-09  1.112037e-11  1.255481e-09  \n",
       "best fit param 3  7.628571e-10  9.152099e-09  3.514882e-09  1.467199e-09  \n",
       "best fit param 4  9.995006e-01  9.995008e-01  9.995014e-01  9.995013e-01  "
      ]
     },
     "execution_count": 2,
     "metadata": {},
     "output_type": "execute_result"
    }
   ],
   "source": [
    "df = pd.read_table('tau_2gyr_newdfk_sn_020_ps_000_r000_model_fits.cfit', header=None) \n",
    "df.index = ['Fitness Metric', 'best fit param 1', 'best fit param 2', 'best fit param 3', 'best fit param 4']\n",
    "df = pd.DataFrame(df)\n",
    "df.head()"
   ]
  },
  {
   "cell_type": "code",
   "execution_count": 3,
   "metadata": {},
   "outputs": [],
   "source": [
    "fitmet = pd.DataFrame(df.iloc[0])\n",
    "param1 = pd.DataFrame(df.iloc[1])\n",
    "param2 = pd.DataFrame(df.iloc[2])\n",
    "param3 = pd.DataFrame(df.iloc[3])\n",
    "param4 = pd.DataFrame(df.iloc[4])"
   ]
  },
  {
   "cell_type": "markdown",
   "metadata": {},
   "source": [
    "`https://seaborn.pydata.org/tutorial/aesthetics.html`"
   ]
  },
  {
   "cell_type": "code",
   "execution_count": 4,
   "metadata": {},
   "outputs": [
    {
     "data": {
      "text/plain": [
       "(array([0.99949975, 0.9995    , 0.99950025, 0.9995005 , 0.99950075,\n",
       "        0.999501  , 0.99950125, 0.9995015 , 0.99950175, 0.999502  ]),\n",
       " <a list of 10 Text major ticklabel objects>)"
      ]
     },
     "execution_count": 4,
     "metadata": {},
     "output_type": "execute_result"
    },
    {
     "data": {
      "image/png": "[encoded data removed]",
      "text/plain": [
       "<Figure size 360x360 with 1 Axes>"
      ]
     },
     "metadata": {},
     "output_type": "display_data"
    },
    {
     "data": {
      "image/png": "[encoded data removed]",
      "text/plain": [
       "<Figure size 360x360 with 1 Axes>"
      ]
     },
     "metadata": {},
     "output_type": "display_data"
    },
    {
     "data": {
      "image/png": "[encoded data removed]",
      "text/plain": [
       "<Figure size 360x360 with 1 Axes>"
      ]
     },
     "metadata": {},
     "output_type": "display_data"
    },
    {
     "data": {
      "image/png": "[encoded data removed]",
      "text/plain": [
       "<Figure size 360x360 with 1 Axes>"
      ]
     },
     "metadata": {},
     "output_type": "display_data"
    },
    {
     "data": {
      "image/png": "[encoded data removed]",
      "text/plain": [
       "<Figure size 360x360 with 1 Axes>"
      ]
     },
     "metadata": {},
     "output_type": "display_data"
    }
   ],
   "source": [
    "# https://seaborn.pydata.org/tutorial/aesthetics.html\n",
    "\n",
    "sb.set_theme(style=\"darkgrid\", palette = 'husl')\n",
    "sb.displot(df.iloc[0])\n",
    "plt.xticks(rotation=45, horizontalalignment='right', fontweight='light')\n",
    "\n",
    "\n",
    "sb.set_theme(palette = 'Set2')\n",
    "sb.displot(df.iloc[1])\n",
    "plt.xticks(rotation=45, horizontalalignment='right', fontweight='light')\n",
    "\n",
    "sb.set_theme(palette = 'viridis')\n",
    "sb.displot(df.iloc[2])\n",
    "plt.xticks(rotation=45, horizontalalignment='right', fontweight='light')\n",
    "\n",
    "sb.set_theme(palette = 'hls')\n",
    "sb.displot(df.iloc[3])\n",
    "plt.xticks(rotation=45, horizontalalignment='right', fontweight='light')\n",
    "\n",
    "sb.set_theme(palette = 'Paired')\n",
    "sb.displot(df.iloc[4])\n",
    "plt.xticks(rotation=45, horizontalalignment='right', fontweight='light')\n"
   ]
  },
  {
   "cell_type": "code",
   "execution_count": null,
   "metadata": {},
   "outputs": [],
   "source": []
  },
  {
   "cell_type": "code",
   "execution_count": null,
   "metadata": {},
   "outputs": [],
   "source": []
  },
  {
   "cell_type": "code",
   "execution_count": null,
   "metadata": {},
   "outputs": [],
   "source": []
  },
  {
   "cell_type": "code",
   "execution_count": 5,
   "metadata": {},
   "outputs": [
    {
     "data": {
      "text/plain": [
       "Text(0.5, 1.0, 'Param1')"
      ]
     },
     "execution_count": 5,
     "metadata": {},
     "output_type": "execute_result"
    },
    {
     "data": {
      "image/png": "[encoded data removed]",
      "text/plain": [
       "<Figure size 432x288 with 1 Axes>"
      ]
     },
     "metadata": {},
     "output_type": "display_data"
    }
   ],
   "source": [
    "# doesnt work // trying to plot multiple histograms in 1 fig\n",
    "\n",
    "sb.set_style('dark')#, {\"axes.facecolor\": \".9\"})\n",
    "# sb.histplot(data=fitmet)\n",
    "p1 = sb.histplot(data=param1, palette='Set1')\n",
    "\n",
    "# p1.set_xticklabels(p1.get_xticklabels(), rotation=15, horizontalalignment='right', fontweight='light', fontsize='x-large')\n",
    "plt.xticks(rotation=45, horizontalalignment='right', fontweight='light')\n",
    "# sb.histplot(data=param2)\n",
    "# sb.histplot(data=param3)\n",
    "# sb.histplot(data=param4)\n",
    "# sb.pairplot(data=param1, kind='hist')\n",
    "\n",
    "sb.despine()\n",
    "plt.title('Param1', weight='bold', size=12)\n",
    "# p1 = p1.set_xticklabels(rotation=45)\n",
    "# fig.tight_layout()\n"
   ]
  },
  {
   "cell_type": "raw",
   "metadata": {},
   "source": []
  },
  {
   "cell_type": "code",
   "execution_count": 6,
   "metadata": {},
   "outputs": [
    {
     "data": {
      "image/png": "[encoded data removed]",
      "text/plain": [
       "<Figure size 504x360 with 5 Axes>"
      ]
     },
     "metadata": {},
     "output_type": "display_data"
    }
   ],
   "source": [
    "# doesnt work // trying to plot multiple histograms in 1 fig\n",
    "\n",
    "# https://seaborn.pydata.org/examples/palette_choices.html\n",
    "\n",
    "f, (ax1, ax2, ax3, ax4, ax5) = plt.subplots(5, 1, figsize=(7, 5), sharex=True)\n",
    "sb.histplot(fitmet)\n",
    "ax1.axhline(0, color='k', clip_on=False)\n",
    "ax1.set_ylabel(\"Count\")\n",
    "\n",
    "# Center the data to make it diverging\n",
    "sb.histplot(param1)\n",
    "ax2.axhline(0, color=\"k\", clip_on=False)\n",
    "ax2.set_ylabel(\"Count\")\n",
    "\n",
    "# Randomly reorder the data to make it qualitative\n",
    "sb.histplot(param2)\n",
    "ax3.axhline(0, color=\"k\", clip_on=False)\n",
    "ax3.set_ylabel(\"Count\")\n",
    "\n",
    "\n",
    "sb.histplot(param3)\n",
    "ax4.axhline(0, color=\"k\", clip_on=False)\n",
    "ax4.set_ylabel(\"Count\")\n",
    "\n",
    "sb.histplot(param4)\n",
    "ax5.axhline(0, color=\"k\", clip_on=False)\n",
    "ax5.set_ylabel(\"Count\")\n",
    "\n",
    "# Finalize the plot\n",
    "sb.despine(bottom=True)\n",
    "plt.setp(f.axes, yticks=[])\n",
    "plt.tight_layout(h_pad=2)"
   ]
  },
  {
   "cell_type": "code",
   "execution_count": null,
   "metadata": {},
   "outputs": [],
   "source": []
  }
 ],
 "metadata": {
  "kernelspec": {
   "display_name": "Python 3",
   "language": "python",
   "name": "python3"
  },
  "language_info": {
   "codemirror_mode": {
    "name": "ipython",
    "version": 3
   },
   "file_extension": ".py",
   "mimetype": "text/x-python",
   "name": "python",
   "nbconvert_exporter": "python",
   "pygments_lexer": "ipython3",
   "version": "3.8.3"
  }
 },
 "nbformat": 4,
 "nbformat_minor": 4
}
