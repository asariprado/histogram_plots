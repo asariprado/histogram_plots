{
 "cells": [
  {
   "cell_type": "code",
   "execution_count": null,
   "metadata": {},
   "outputs": [],
   "source": [
    "import re\n",
    "import pandas as pd\n",
    "import numpy as np\n",
    "#import seaborn as sb\n",
    "%matplotlib inline\n",
    "import matplotlib.pyplot as plt\n",
    "#from matplotlib.pyplot import subplots\n",
    "# plt.style.use('seaborn-white')"
   ]
  },
  {
   "cell_type": "code",
   "execution_count": null,
   "metadata": {},
   "outputs": [],
   "source": [
    "df = pd.read_table('tau_2gyr_newdfk_sn_020_ps_000_r000_model_fits.cfit', header=None) \n",
    "df.index = ['Fitness Metric', 'best fit param 1', 'best fit param 2', 'best fit param 3', 'best fit param 4']\n",
    "#df = pd.DataFrame(df) This line isn't needed as your data is aleady a data frame after reading in\n",
    "#df.head()"
   ]
  },
  {
   "cell_type": "code",
   "execution_count": null,
   "metadata": {},
   "outputs": [],
   "source": [
    "#This isn't really needed when we can index each usind df.iloc below and grab the index names in df.index\n",
    "fitmet = pd.DataFrame(df.iloc[0])\n",
    "param1 = pd.DataFrame(df.iloc[1])\n",
    "param2 = pd.DataFrame(df.iloc[2])\n",
    "param3 = pd.DataFrame(df.iloc[3])\n",
    "param4 = pd.DataFrame(df.iloc[4])"
   ]
  },
  {
   "cell_type": "markdown",
   "metadata": {},
   "source": [
    "`https://seaborn.pydata.org/tutorial/aesthetics.html`"
   ]
  },
  {
   "cell_type": "code",
   "execution_count": null,
   "metadata": {},
   "outputs": [],
   "source": [
    "# https://seaborn.pydata.org/tutorial/aesthetics.html\n",
    "\n",
    "sb.set_theme(style=\"darkgrid\", palette = 'husl')\n",
    "sb.displot(df.iloc[0])\n",
    "plt.xticks(rotation=45, horizontalalignment='right', fontweight='light')\n",
    "\n",
    "\n",
    "sb.set_theme(palette = 'Set2')\n",
    "sb.displot(df.iloc[1])\n",
    "plt.xticks(rotation=45, horizontalalignment='right', fontweight='light')\n",
    "\n",
    "sb.set_theme(palette = 'viridis')\n",
    "sb.displot(df.iloc[2])\n",
    "plt.xticks(rotation=45, horizontalalignment='right', fontweight='light')\n",
    "\n",
    "sb.set_theme(palette = 'hls')\n",
    "sb.displot(df.iloc[3])\n",
    "plt.xticks(rotation=45, horizontalalignment='right', fontweight='light')\n",
    "\n",
    "sb.set_theme(palette = 'Paired')\n",
    "sb.displot(df.iloc[4])\n",
    "plt.xticks(rotation=45, horizontalalignment='right', fontweight='light')\n"
   ]
  },
  {
   "cell_type": "code",
   "execution_count": null,
   "metadata": {},
   "outputs": [],
   "source": []
  },
  {
   "cell_type": "code",
   "execution_count": null,
   "metadata": {},
   "outputs": [],
   "source": []
  },
  {
   "cell_type": "code",
   "execution_count": null,
   "metadata": {},
   "outputs": [],
   "source": []
  },
  {
   "cell_type": "code",
   "execution_count": null,
   "metadata": {},
   "outputs": [],
   "source": [
    "# doesnt work // trying to plot multiple histograms in 1 fig\n",
    "\n",
    "sb.set_style('dark')#, {\"axes.facecolor\": \".9\"})\n",
    "# sb.histplot(data=fitmet)\n",
    "p1 = sb.histplot(data=param1, palette='Set1')\n",
    "\n",
    "# p1.set_xticklabels(p1.get_xticklabels(), rotation=15, horizontalalignment='right', fontweight='light', fontsize='x-large')\n",
    "plt.xticks(rotation=45, horizontalalignment='right', fontweight='light')\n",
    "# sb.histplot(data=param2)\n",
    "# sb.histplot(data=param3)\n",
    "# sb.histplot(data=param4)\n",
    "# sb.pairplot(data=param1, kind='hist')\n",
    "\n",
    "sb.despine()\n",
    "plt.title('Param1', weight='bold', size=12)\n",
    "# p1 = p1.set_xticklabels(rotation=45)\n",
    "# fig.tight_layout()\n"
   ]
  },
  {
   "cell_type": "raw",
   "metadata": {},
   "source": []
  },
  {
   "cell_type": "code",
   "execution_count": null,
   "metadata": {},
   "outputs": [],
   "source": [
    "# doesnt work // trying to plot multiple histograms in 1 fig\n",
    "\n",
    "# https://seaborn.pydata.org/examples/palette_choices.html\n",
    "\n",
    "f, (ax1, ax2, ax3, ax4, ax5) = plt.subplots(5, 1, figsize=(7, 5), sharex=True)\n",
    "sb.histplot(fitmet)\n",
    "ax1.axhline(0, color='k', clip_on=False)\n",
    "ax1.set_ylabel(\"Count\")\n",
    "\n",
    "# Center the data to make it diverging\n",
    "sb.histplot(param1)\n",
    "ax2.axhline(0, color=\"k\", clip_on=False)\n",
    "ax2.set_ylabel(\"Count\")\n",
    "\n",
    "# Randomly reorder the data to make it qualitative\n",
    "sb.histplot(param2)\n",
    "ax3.axhline(0, color=\"k\", clip_on=False)\n",
    "ax3.set_ylabel(\"Count\")\n",
    "\n",
    "\n",
    "sb.histplot(param3)\n",
    "ax4.axhline(0, color=\"k\", clip_on=False)\n",
    "ax4.set_ylabel(\"Count\")\n",
    "\n",
    "sb.histplot(param4)\n",
    "ax5.axhline(0, color=\"k\", clip_on=False)\n",
    "ax5.set_ylabel(\"Count\")\n",
    "\n",
    "# Finalize the plot\n",
    "sb.despine(bottom=True)\n",
    "plt.setp(f.axes, yticks=[])\n",
    "plt.tight_layout(h_pad=2)"
   ]
  },
  {
   "cell_type": "code",
   "execution_count": null,
   "metadata": {},
   "outputs": [],
   "source": [
    "#Try using matplotlib and pylot instead of seaborn\n",
    "def trim_axs(axs, N):\n",
    "    \"\"\"\n",
    "    Reduce *axs* to *N* Axes. All further Axes are removed from the figure.\n",
    "    \"\"\"\n",
    "    axs = axs.flat\n",
    "    for ax in axs[N:]:\n",
    "        ax.remove()\n",
    "    return axs[:N]\n",
    "\n",
    "axs = plt.figure(figsize=(8*3,6*2)).subplots(2, 3, sharey=True)\n",
    "axs = trim_axs(axs,len(df.index))\n",
    "for i in range(len(df.index)):\n",
    "    axs.flat[i].hist(df.iloc[i])\n",
    "    axs.flat[i].set_xlabel(df.index[i])\n",
    "    axs.flat[i].ticklabel_format(scilimits=(-3,0))\n",
    "#Axe number run into each other but we can fix that with some formattingof the xticklabels"
   ]
  },
  {
   "cell_type": "code",
   "execution_count": null,
   "metadata": {},
   "outputs": [],
   "source": []
  }
 ],
 "metadata": {
  "kernelspec": {
   "display_name": "Python 3",
   "language": "python",
   "name": "python3"
  },
  "language_info": {
   "codemirror_mode": {
    "name": "ipython",
    "version": 3
   },
   "file_extension": ".py",
   "mimetype": "text/x-python",
   "name": "python",
   "nbconvert_exporter": "python",
   "pygments_lexer": "ipython3",
   "version": "3.6.9"
  }
 },
 "nbformat": 4,
 "nbformat_minor": 4
}
